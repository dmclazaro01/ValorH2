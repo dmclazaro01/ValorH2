{
 "cells": [
  {
   "cell_type": "markdown",
   "metadata": {},
   "source": [
    "# Maltiverse"
   ]
  },
  {
   "cell_type": "code",
   "execution_count": 1,
   "metadata": {},
   "outputs": [
    {
     "ename": "FileNotFoundError",
     "evalue": "[Errno 2] No such file or directory: 'ipblocklist.txt'",
     "output_type": "error",
     "traceback": [
      "\u001b[1;31m---------------------------------------------------------------------------\u001b[0m",
      "\u001b[1;31mFileNotFoundError\u001b[0m                         Traceback (most recent call last)",
      "\u001b[1;32mc:\\Users\\pavl_\\Documents\\ValorH2\\ValorH2-ThreatIntel\\threatFox\\Scrapper_swagger_threatFox.ipynb Cell 2\u001b[0m line \u001b[0;36m1\n\u001b[0;32m     <a href='vscode-notebook-cell:/c%3A/Users/pavl_/Documents/ValorH2/ValorH2-ThreatIntel/threatFox/Scrapper_swagger_threatFox.ipynb#W1sZmlsZQ%3D%3D?line=10'>11</a>\u001b[0m url \u001b[39m=\u001b[39m \u001b[39m'\u001b[39m\u001b[39mhttps://app.swaggerhub.com/apis-docs/maltiverse/api/1.1.2#/ipv4/getIP\u001b[39m\u001b[39m'\u001b[39m\n\u001b[0;32m     <a href='vscode-notebook-cell:/c%3A/Users/pavl_/Documents/ValorH2/ValorH2-ThreatIntel/threatFox/Scrapper_swagger_threatFox.ipynb#W1sZmlsZQ%3D%3D?line=11'>12</a>\u001b[0m ip\u001b[39m=\u001b[39m[]\n\u001b[1;32m---> <a href='vscode-notebook-cell:/c%3A/Users/pavl_/Documents/ValorH2/ValorH2-ThreatIntel/threatFox/Scrapper_swagger_threatFox.ipynb#W1sZmlsZQ%3D%3D?line=13'>14</a>\u001b[0m file \u001b[39m=\u001b[39m \u001b[39mopen\u001b[39;49m(\u001b[39m'\u001b[39;49m\u001b[39mipblocklist.txt\u001b[39;49m\u001b[39m'\u001b[39;49m, \u001b[39m'\u001b[39;49m\u001b[39mr\u001b[39;49m\u001b[39m'\u001b[39;49m)\n\u001b[0;32m     <a href='vscode-notebook-cell:/c%3A/Users/pavl_/Documents/ValorH2/ValorH2-ThreatIntel/threatFox/Scrapper_swagger_threatFox.ipynb#W1sZmlsZQ%3D%3D?line=15'>16</a>\u001b[0m nombre_archivo \u001b[39m=\u001b[39m \u001b[39m\"\u001b[39m\u001b[39mmaltiverse/maltiverse.json\u001b[39m\u001b[39m\"\u001b[39m\n\u001b[0;32m     <a href='vscode-notebook-cell:/c%3A/Users/pavl_/Documents/ValorH2/ValorH2-ThreatIntel/threatFox/Scrapper_swagger_threatFox.ipynb#W1sZmlsZQ%3D%3D?line=17'>18</a>\u001b[0m \u001b[39m# Verifica si el archivo existe\u001b[39;00m\n",
      "File \u001b[1;32mc:\\Users\\pavl_\\Documents\\Threat Intelligence\\threat_intelli\\Lib\\site-packages\\IPython\\core\\interactiveshell.py:286\u001b[0m, in \u001b[0;36m_modified_open\u001b[1;34m(file, *args, **kwargs)\u001b[0m\n\u001b[0;32m    279\u001b[0m \u001b[39mif\u001b[39;00m file \u001b[39min\u001b[39;00m {\u001b[39m0\u001b[39m, \u001b[39m1\u001b[39m, \u001b[39m2\u001b[39m}:\n\u001b[0;32m    280\u001b[0m     \u001b[39mraise\u001b[39;00m \u001b[39mValueError\u001b[39;00m(\n\u001b[0;32m    281\u001b[0m         \u001b[39mf\u001b[39m\u001b[39m\"\u001b[39m\u001b[39mIPython won\u001b[39m\u001b[39m'\u001b[39m\u001b[39mt let you open fd=\u001b[39m\u001b[39m{\u001b[39;00mfile\u001b[39m}\u001b[39;00m\u001b[39m by default \u001b[39m\u001b[39m\"\u001b[39m\n\u001b[0;32m    282\u001b[0m         \u001b[39m\"\u001b[39m\u001b[39mas it is likely to crash IPython. If you know what you are doing, \u001b[39m\u001b[39m\"\u001b[39m\n\u001b[0;32m    283\u001b[0m         \u001b[39m\"\u001b[39m\u001b[39myou can use builtins\u001b[39m\u001b[39m'\u001b[39m\u001b[39m open.\u001b[39m\u001b[39m\"\u001b[39m\n\u001b[0;32m    284\u001b[0m     )\n\u001b[1;32m--> 286\u001b[0m \u001b[39mreturn\u001b[39;00m io_open(file, \u001b[39m*\u001b[39;49margs, \u001b[39m*\u001b[39;49m\u001b[39m*\u001b[39;49mkwargs)\n",
      "\u001b[1;31mFileNotFoundError\u001b[0m: [Errno 2] No such file or directory: 'ipblocklist.txt'"
     ]
    }
   ],
   "source": [
    "import bs4\n",
    "import requests\n",
    "import selenium \n",
    "from selenium import webdriver\n",
    "from selenium.webdriver.common.by import By\n",
    "from selenium.webdriver.support import expected_conditions as EC\n",
    "from selenium.webdriver.support.ui import WebDriverWait\n",
    "import os\n",
    "import json\n",
    "\n",
    "url = 'https://app.swaggerhub.com/apis-docs/maltiverse/api/1.1.2#/ipv4/getIP'\n",
    "ip=[]\n",
    "\n",
    "file = open('ipblocklist.txt', 'r')\n",
    "\n",
    "nombre_archivo = \"maltiverse/maltiverse.json\"\n",
    "\n",
    "# Verifica si el archivo existe\n",
    "if os.path.exists(nombre_archivo):\n",
    "    # Elimina el archivo si existe\n",
    "    os.remove(nombre_archivo)\n",
    "    print(f\"El archivo {nombre_archivo} ha sido eliminado.\")\n",
    "else:\n",
    "    print(f\"El archivo {nombre_archivo} no existe.\")"
   ]
  },
  {
   "cell_type": "code",
   "execution_count": 5,
   "metadata": {},
   "outputs": [
    {
     "name": "stdout",
     "output_type": "stream",
     "text": [
      "Error\n",
      "Error\n",
      "Error\n",
      "Error\n",
      "Error\n",
      "Error\n",
      "Error\n",
      "Error\n",
      "Error\n",
      "Error\n",
      "Error\n",
      "Error\n",
      "Error\n",
      "Error\n",
      "Error\n"
     ]
    }
   ],
   "source": [
    "counter = 0\n",
    "file2 = open(\"maltiverse/maltiverse.json\", \"a\")\n",
    "for line in file:\n",
    "    if counter == 30:\n",
    "        break\n",
    "    try:\n",
    "        driver = webdriver.Chrome()\n",
    "    \n",
    "        driver.get(url)\n",
    "        button = WebDriverWait(driver, 10).until(\n",
    "            EC.presence_of_element_located((By.XPATH, '//*[@id=\"operations-ipv4-getIP\"]/div[2]/div/div[2]/div[1]/div[2]/div/button'))\n",
    "        )\n",
    "        button.click()\n",
    "    \n",
    "        input = driver.find_element(\"xpath\",\"//input[@placeholder='ipv4']\")\n",
    "        input.send_keys(line.strip())\n",
    "    \n",
    "        button2 = driver.find_element(\"xpath\",'//button[normalize-space()=\"Execute\"]')\n",
    "        button2.click()\n",
    "        info = WebDriverWait(driver, 10).until(\n",
    "            EC.presence_of_element_located((By.XPATH, '//*[@id=\"operations-ipv4-getIP\"]/div[2]/div/div[4]/div[2]/div/div/table/tbody/tr/td[2]/div[1]/div/pre'))\n",
    "        )\n",
    "        \n",
    "        file2.write(info.json)\n",
    "        driver.close()\n",
    "        counter += 1\n",
    "    except:\n",
    "        print(\"Error\")"
   ]
  },
  {
   "cell_type": "code",
   "execution_count": 41,
   "metadata": {},
   "outputs": [
    {
     "ename": "FileNotFoundError",
     "evalue": "[Errno 2] No such file or directory: 'info.txt'",
     "output_type": "error",
     "traceback": [
      "\u001b[1;31m---------------------------------------------------------------------------\u001b[0m",
      "\u001b[1;31mFileNotFoundError\u001b[0m                         Traceback (most recent call last)",
      "\u001b[1;32mc:\\Users\\pavl_\\Documents\\ValorH2\\ValorH2-ThreatIntel\\threatFox\\Scrapper_swagger_threatFox.ipynb Cell 4\u001b[0m line \u001b[0;36m1\n\u001b[1;32m----> <a href='vscode-notebook-cell:/c%3A/Users/pavl_/Documents/ValorH2/ValorH2-ThreatIntel/threatFox/Scrapper_swagger_threatFox.ipynb#W3sZmlsZQ%3D%3D?line=0'>1</a>\u001b[0m file \u001b[39m=\u001b[39m \u001b[39mopen\u001b[39;49m(\u001b[39m\"\u001b[39;49m\u001b[39minfo.txt\u001b[39;49m\u001b[39m\"\u001b[39;49m, \u001b[39m\"\u001b[39;49m\u001b[39mr\u001b[39;49m\u001b[39m\"\u001b[39;49m)\n\u001b[0;32m      <a href='vscode-notebook-cell:/c%3A/Users/pavl_/Documents/ValorH2/ValorH2-ThreatIntel/threatFox/Scrapper_swagger_threatFox.ipynb#W3sZmlsZQ%3D%3D?line=1'>2</a>\u001b[0m \u001b[39mfor\u001b[39;00m line \u001b[39min\u001b[39;00m file:\n\u001b[0;32m      <a href='vscode-notebook-cell:/c%3A/Users/pavl_/Documents/ValorH2/ValorH2-ThreatIntel/threatFox/Scrapper_swagger_threatFox.ipynb#W3sZmlsZQ%3D%3D?line=2'>3</a>\u001b[0m     \u001b[39mprint\u001b[39m()\n",
      "File \u001b[1;32mc:\\Users\\pavl_\\Documents\\Threat Intelligence\\threat_intelli\\Lib\\site-packages\\IPython\\core\\interactiveshell.py:286\u001b[0m, in \u001b[0;36m_modified_open\u001b[1;34m(file, *args, **kwargs)\u001b[0m\n\u001b[0;32m    279\u001b[0m \u001b[39mif\u001b[39;00m file \u001b[39min\u001b[39;00m {\u001b[39m0\u001b[39m, \u001b[39m1\u001b[39m, \u001b[39m2\u001b[39m}:\n\u001b[0;32m    280\u001b[0m     \u001b[39mraise\u001b[39;00m \u001b[39mValueError\u001b[39;00m(\n\u001b[0;32m    281\u001b[0m         \u001b[39mf\u001b[39m\u001b[39m\"\u001b[39m\u001b[39mIPython won\u001b[39m\u001b[39m'\u001b[39m\u001b[39mt let you open fd=\u001b[39m\u001b[39m{\u001b[39;00mfile\u001b[39m}\u001b[39;00m\u001b[39m by default \u001b[39m\u001b[39m\"\u001b[39m\n\u001b[0;32m    282\u001b[0m         \u001b[39m\"\u001b[39m\u001b[39mas it is likely to crash IPython. If you know what you are doing, \u001b[39m\u001b[39m\"\u001b[39m\n\u001b[0;32m    283\u001b[0m         \u001b[39m\"\u001b[39m\u001b[39myou can use builtins\u001b[39m\u001b[39m'\u001b[39m\u001b[39m open.\u001b[39m\u001b[39m\"\u001b[39m\n\u001b[0;32m    284\u001b[0m     )\n\u001b[1;32m--> 286\u001b[0m \u001b[39mreturn\u001b[39;00m io_open(file, \u001b[39m*\u001b[39;49margs, \u001b[39m*\u001b[39;49m\u001b[39m*\u001b[39;49mkwargs)\n",
      "\u001b[1;31mFileNotFoundError\u001b[0m: [Errno 2] No such file or directory: 'info.txt'"
     ]
    }
   ],
   "source": [
    "file = open(\"info.txt\", \"r\")\n",
    "for line in file:\n",
    "    print(line)"
   ]
  },
  {
   "cell_type": "markdown",
   "metadata": {},
   "source": [
    "## ThreatFox"
   ]
  },
  {
   "cell_type": "code",
   "execution_count": 5,
   "metadata": {},
   "outputs": [],
   "source": [
    "import requests\n",
    "import json\n",
    "import os\n",
    "\n",
    "API_TOKEN = '98abc7139f7a0b6960fd17fd4be63089'\n",
    "url = \"https://threatfox-api.abuse.ch/api/v1/\"\n",
    "\n",
    "file = open('threatFox.json', 'a')\n",
    "payload = json.dumps({\n",
    "  \"query\": \"get_iocs\",\n",
    "  \"days\": 7\n",
    "})\n",
    "headers = {\n",
    "  'Content-Type': 'application/json',\n",
    "  'Authorization': 'Bearer ' + API_TOKEN\n",
    "}\n",
    "\n",
    "try:\n",
    "    response = requests.request(\"POST\", url, headers=headers, data=payload)\n",
    "    data = json.loads(response.text)\n",
    "\n",
    "    if \"data\" in data:\n",
    "        data_content = data[\"data\"]\n",
    "        file.write(json.dumps(data_content))\n",
    "    else:\n",
    "        print(\"No 'data' field found in the response.\")\n",
    "\n",
    "except Exception as e:\n",
    "    print(f\"Error: {e}\")\n",
    "\n",
    "file.close()\n"
   ]
  },
  {
   "cell_type": "code",
   "execution_count": null,
   "metadata": {},
   "outputs": [],
   "source": []
  },
  {
   "cell_type": "markdown",
   "metadata": {},
   "source": [
    "# Hybrid Analysis"
   ]
  },
  {
   "cell_type": "code",
   "execution_count": 2,
   "metadata": {},
   "outputs": [],
   "source": [
    "import requests\n",
    "import os\n",
    "import json\n",
    "\n",
    "# Crea una instancia de la API de Hybrid Analysis\n",
    "api = requests.Session()\n",
    "\n",
    "# Obtén la clave API\n",
    "key = \"bkkyzac824a360ef0b3leouyd81a4057xchmgn9a8f39214123i3189i92bf866e\"\n",
    "\n",
    "data = {\n",
    "    'hash': 'e58d43d6c26604984dce363a2ffe11c9162e58666f02041df046663554dee403',\n",
    "}\n",
    "\n",
    "if os.path.exists('../relations/alt/test-hashes.json'):\n",
    "  os.remove('../relations/alt/test-hashes.json')\n",
    "\n",
    "file = open('../relations/alt/test-hashes.json', 'a')\n",
    "# Realiza la consulta\n",
    "response = api.post(\n",
    "    \"https://hybrid-analysis.com/api/v2/search/hash\",\n",
    "    headers={'accept': 'application/json',\"api-key\": key,'Content-Type': 'application/x-www-form-urlencoded'},data=data\n",
    ")\n",
    "\n",
    "\n",
    "\n",
    "# Procesa la respuesta\n",
    "if response.status_code == 200:\n",
    "    file.write(response.text)\n",
    "    if 'submissions' in response.json() and response.json()['submissions']:\n",
    "        submissions = json_response['submissions']\n",
    "        for submission in submissions:\n",
    "            print(mitre_attck)\n",
    "        print(response.json()['mitre_attcks'])\n",
    "else:\n",
    "    print(f\"Error: {response.status_code} , mensaje: {response.text}\")\n",
    "file.close()\n",
    "\n"
   ]
  }
 ],
 "metadata": {
  "kernelspec": {
   "display_name": "threat_intelli",
   "language": "python",
   "name": "python3"
  },
  "language_info": {
   "codemirror_mode": {
    "name": "ipython",
    "version": 3
   },
   "file_extension": ".py",
   "mimetype": "text/x-python",
   "name": "python",
   "nbconvert_exporter": "python",
   "pygments_lexer": "ipython3",
   "version": "3.12.0"
  }
 },
 "nbformat": 4,
 "nbformat_minor": 2
}
