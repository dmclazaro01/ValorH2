{
 "cells": [
  {
   "cell_type": "markdown",
   "metadata": {},
   "source": [
    "#### DOWNLOAD MALWARE"
   ]
  },
  {
   "cell_type": "code",
   "execution_count": 2,
   "metadata": {},
   "outputs": [],
   "source": [
    "import requests"
   ]
  },
  {
   "cell_type": "markdown",
   "metadata": {},
   "source": [
    "> Descarga de abuse.ch malware bazaar usando API"
   ]
  },
  {
   "cell_type": "code",
   "execution_count": 8,
   "metadata": {},
   "outputs": [
    {
     "name": "stdout",
     "output_type": "stream",
     "text": [
      "Archivo guardado como malware.zip\n"
     ]
    }
   ],
   "source": [
    "url = \"https://mb-api.abuse.ch/api/v1/\"\n",
    "data = {\n",
    "    \"query\": \"get_file\",\n",
    "    \"sha256_hash\": \"094fd325049b8a9cf6d3e5ef2a6d4cc6a567d7d49c35f8bb8dd9e3c6acf3d78d\"\n",
    "}\n",
    "\n",
    "# Realizar la solicitud POST\n",
    "response = requests.post(url, data=data)\n",
    "\n",
    "# Comprueba si la solicitud fue exitosa\n",
    "if response.status_code == 200:\n",
    "    # Nombre del archivo para guardar el contenido\n",
    "    filename = \"malware.zip\"\n",
    "\n",
    "    # Abrir un archivo en modo binario para escribir\n",
    "    with open(filename, 'wb') as file:\n",
    "        file.write(response.content)\n",
    "\n",
    "    print(f\"Archivo guardado como {filename}\")\n",
    "else:\n",
    "    print(\"Error en la solicitud:\", response.status_code)\n"
   ]
  },
  {
   "cell_type": "markdown",
   "metadata": {},
   "source": [
    ">Descarga de malware directamente de url sospechosa reportada"
   ]
  },
  {
   "cell_type": "code",
   "execution_count": 3,
   "metadata": {},
   "outputs": [],
   "source": [
    "MALWARE_URL = \"http://89.23.98.92/file5/pdf.exe\""
   ]
  },
  {
   "cell_type": "code",
   "execution_count": 4,
   "metadata": {},
   "outputs": [
    {
     "name": "stdout",
     "output_type": "stream",
     "text": [
      "Archivo guardado como malware\n"
     ]
    }
   ],
   "source": [
    "response = requests.get(MALWARE_URL)\n",
    "# Comprueba si la solicitud fue exitosa\n",
    "if response.status_code == 200:\n",
    "    # Nombre del archivo para guardar el contenido\n",
    "    filename = \"malware\"\n",
    "\n",
    "    # Abrir un archivo en modo binario para escribir\n",
    "    with open(filename, 'wb') as file:\n",
    "        file.write(response.content)\n",
    "\n",
    "    print(f\"Archivo guardado como {filename}\")\n",
    "else:\n",
    "    print(\"Error en la solicitud:\", response.status_code)"
   ]
  },
  {
   "cell_type": "markdown",
   "metadata": {},
   "source": [
    "### TEST TRIAGE UPLOAD MALWARE"
   ]
  },
  {
   "cell_type": "code",
   "execution_count": 10,
   "metadata": {},
   "outputs": [],
   "source": [
    "API_KEY = \"2a6dadcca0fdcf1ac794701345bbbb71480bcfcf\"\n",
    "URL_UPLOAD = \"https://tria.ge/api/v0/samples\""
   ]
  },
  {
   "cell_type": "code",
   "execution_count": 11,
   "metadata": {},
   "outputs": [],
   "source": [
    "HEADERS = {\"Authorization\": \"Bearer \" + API_KEY}"
   ]
  },
  {
   "cell_type": "code",
   "execution_count": 15,
   "metadata": {},
   "outputs": [],
   "source": [
    "malware = \"malware\""
   ]
  },
  {
   "cell_type": "markdown",
   "metadata": {},
   "source": [
    "#### Zip con password"
   ]
  },
  {
   "cell_type": "code",
   "execution_count": 10,
   "metadata": {},
   "outputs": [],
   "source": [
    "with open(malware, 'rb') as file:    \n",
    "    files = {    \n",
    "        'password': (None, 'infected'),\n",
    "        'file': open(file, 'rb'),\n",
    "    }\n",
    "    response = requests.post(URL_UPLOAD, headers=HEADERS,files=files)"
   ]
  },
  {
   "cell_type": "markdown",
   "metadata": {},
   "source": [
    "#### Fichero sin password"
   ]
  },
  {
   "cell_type": "code",
   "execution_count": 17,
   "metadata": {},
   "outputs": [],
   "source": [
    "with open(malware, 'rb') as file:    \n",
    "    files = {\n",
    "        'file': file\n",
    "    }\n",
    "    response = requests.post(URL_UPLOAD, headers=HEADERS,files=files)"
   ]
  },
  {
   "cell_type": "code",
   "execution_count": 18,
   "metadata": {},
   "outputs": [],
   "source": [
    "import os\n",
    "os.remove(malware)"
   ]
  },
  {
   "cell_type": "code",
   "execution_count": 19,
   "metadata": {},
   "outputs": [
    {
     "data": {
      "text/plain": [
       "'{\"id\":\"231214-qdzmcadggp\",\"status\":\"pending\",\"kind\":\"file\",\"filename\":\"malware\",\"private\":false,\"submitted\":\"2023-12-14T13:09:24Z\"}\\n'"
      ]
     },
     "execution_count": 19,
     "metadata": {},
     "output_type": "execute_result"
    }
   ],
   "source": [
    "response.text"
   ]
  },
  {
   "cell_type": "code",
   "execution_count": 20,
   "metadata": {},
   "outputs": [],
   "source": [
    "if response.status_code == 200:\n",
    "    id_triage = response.json().get(\"id\")\n",
    "else:\n",
    "    print(\"No se encontraron muestras para el SHA256:\", malware)"
   ]
  },
  {
   "cell_type": "code",
   "execution_count": 21,
   "metadata": {},
   "outputs": [
    {
     "name": "stdout",
     "output_type": "stream",
     "text": [
      "ID de Triage: 231214-qdzmcadggp\n"
     ]
    }
   ],
   "source": [
    "print(\"ID de Triage:\", id_triage)"
   ]
  },
  {
   "cell_type": "code",
   "execution_count": 22,
   "metadata": {},
   "outputs": [
    {
     "name": "stdout",
     "output_type": "stream",
     "text": [
      "{\n",
      "  \"id\": \"231214-qdzmcadggp\",\n",
      "  \"status\": \"pending\",\n",
      "  \"kind\": \"file\",\n",
      "  \"filename\": \"malware\",\n",
      "  \"private\": false,\n",
      "  \"submitted\": \"2023-12-14T13:09:24Z\"\n",
      "}\n"
     ]
    }
   ],
   "source": [
    "import json\n",
    "result = response.json()\n",
    "print(json.dumps(result, indent=2))"
   ]
  },
  {
   "cell_type": "markdown",
   "metadata": {},
   "source": [
    "## REPORTE EXTRAER"
   ]
  },
  {
   "cell_type": "code",
   "execution_count": 33,
   "metadata": {},
   "outputs": [],
   "source": [
    "URL_REPORT = f\"https://tria.ge/api/v0/samples/{id_triage}/overview.json\"\n",
    "response = requests.get(URL_REPORT, headers=HEADERS)"
   ]
  },
  {
   "cell_type": "code",
   "execution_count": 34,
   "metadata": {},
   "outputs": [
    {
     "name": "stdout",
     "output_type": "stream",
     "text": [
      "{\n",
      "  \"analysis\": {\n",
      "    \"score\": 7,\n",
      "    \"tags\": [\n",
      "      \"spyware\"\n",
      "    ]\n",
      "  },\n",
      "  \"sample\": {\n",
      "    \"completed\": \"2023-12-14T13:12:07Z\",\n",
      "    \"created\": \"2023-12-14T13:09:24Z\",\n",
      "    \"id\": \"231214-qdzmcadggp\",\n",
      "    \"md5\": \"2bce2e5420d837f173ce430e1da00d3c\",\n",
      "    \"score\": 7,\n",
      "    \"sha1\": \"00b5d9455a6560a7c486fbacd35be31fa2520a39\",\n",
      "    \"sha256\": \"71f6b3298f2cfce43078dda3cc68838bc926275d278ca8c116da27e9467a0ba2\",\n",
      "    \"sha512\": \"c33e7d9d51d142ceb85cd3b3fe6054f89c0ac5bd51b9724e278437da58ed447885df2251b5bbd487b20c8103735dcd2354bef61970e21514dd7aeee544b01ec0\",\n",
      "    \"size\": 19051008,\n",
      "    \"ssdeep\": \"393216:daEMDZB4brQc+unXmrZT9ogMO8VxIRJxibRR6+h8WFvBcjfnf:gD74/+uXmrZqcRC9R6+jlOjff\",\n",
      "    \"target\": \"malware\"\n",
      "  },\n",
      "  \"signatures\": [\n",
      "    {\n",
      "      \"label\": \"uses_vbs_compiler\",\n",
      "      \"name\": \"Uses the VBS compiler for execution\",\n",
      "      \"score\": 7,\n",
      "      \"ttp\": [\n",
      "        \"T1064\"\n",
      "      ]\n",
      "    },\n",
      "    {\n",
      "      \"label\": \"sig_crypto_wallet\",\n",
      "      \"name\": \"Accesses cryptocurrency files/wallets, possible credential harvesting\",\n",
      "      \"score\": 6,\n",
      "      \"tags\": [\n",
      "        \"spyware\"\n",
      "      ],\n",
      "      \"ttp\": [\n",
      "        \"T1005\",\n",
      "        \"T1552.001\"\n",
      "      ]\n",
      "    },\n",
      "    {\n",
      "      \"name\": \"Suspicious use of SetThreadContext\",\n",
      "      \"score\": 5\n",
      "    },\n",
      "    {\n",
      "      \"desc\": \"Checks for missing Authenticode signature.\",\n",
      "      \"label\": \"unsigned_pe\",\n",
      "      \"name\": \"Unsigned PE\",\n",
      "      \"score\": 3\n",
      "    },\n",
      "    {\n",
      "      \"name\": \"Suspicious behavior: EnumeratesProcesses\"\n",
      "    },\n",
      "    {\n",
      "      \"name\": \"Suspicious use of AdjustPrivilegeToken\"\n",
      "    },\n",
      "    {\n",
      "      \"name\": \"Suspicious use of WriteProcessMemory\"\n",
      "    }\n",
      "  ],\n",
      "  \"targets\": [\n",
      "    {\n",
      "      \"iocs\": {\n",
      "        \"domains\": [\n",
      "          \"2.136.104.51.in-addr.arpa\",\n",
      "          \"16.53.126.40.in-addr.arpa\",\n",
      "          \"0.205.248.87.in-addr.arpa\",\n",
      "          \"95.221.229.192.in-addr.arpa\",\n",
      "          \"9.228.82.20.in-addr.arpa\",\n",
      "          \"41.110.16.96.in-addr.arpa\",\n",
      "          \"26.35.223.20.in-addr.arpa\",\n",
      "          \"23.85.215.91.in-addr.arpa\",\n",
      "          \"103.169.127.40.in-addr.arpa\",\n",
      "          \"tse1.mm.bing.net\",\n",
      "          \"200.197.79.204.in-addr.arpa\",\n",
      "          \"171.39.242.20.in-addr.arpa\",\n",
      "          \"104.241.123.92.in-addr.arpa\",\n",
      "          \"119.110.54.20.in-addr.arpa\",\n",
      "          \"208.194.73.20.in-addr.arpa\",\n",
      "          \"18.134.221.88.in-addr.arpa\",\n",
      "          \"196.178.17.96.in-addr.arpa\",\n",
      "          \"59.134.221.88.in-addr.arpa\",\n",
      "          \"86.23.85.13.in-addr.arpa\",\n",
      "          \"240.221.184.93.in-addr.arpa\",\n",
      "          \"174.178.17.96.in-addr.arpa\",\n",
      "          \"180.178.17.96.in-addr.arpa\",\n",
      "          \"43.229.111.52.in-addr.arpa\"\n",
      "        ],\n",
      "        \"ips\": [\n",
      "          \"91.215.85.23\",\n",
      "          \"8.8.8.8\",\n",
      "          \"204.79.197.200\",\n",
      "          \"96.17.178.174\",\n",
      "          \"96.17.178.180\"\n",
      "        ],\n",
      "        \"urls\": [\n",
      "          \"https://tse1.mm.bing.net/th?id=OADD2.10239317301233_1DW93FPGEP2PWMOD7&pid=21.2&w=1920&h=1080&c=4\",\n",
      "          \"https://tse1.mm.bing.net/th?id=OADD2.10239317301550_1KTS2U40XABEYSP4S&pid=21.2&w=1080&h=1920&c=4\",\n",
      "          \"https://tse1.mm.bing.net/th?id=OADD2.10239317301029_1SYNGSIQW4Q3JL0YY&pid=21.2&w=1920&h=1080&c=4\",\n",
      "          \"https://tse1.mm.bing.net/th?id=OADD2.10239317301642_146AN3TCLR6376QGX&pid=21.2&w=1080&h=1920&c=4\",\n",
      "          \"https://tse1.mm.bing.net/th?id=OADD2.10239317301141_1T14XQS0S9BBP3SVW&pid=21.2&w=1920&h=1080&c=4\",\n",
      "          \"https://tse1.mm.bing.net/th?id=OADD2.10239317301462_155RPY8NMW3CJPWGJ&pid=21.2&w=1080&h=1920&c=4\"\n",
      "        ]\n",
      "      },\n",
      "      \"md5\": \"2bce2e5420d837f173ce430e1da00d3c\",\n",
      "      \"score\": 7,\n",
      "      \"sha1\": \"00b5d9455a6560a7c486fbacd35be31fa2520a39\",\n",
      "      \"sha256\": \"71f6b3298f2cfce43078dda3cc68838bc926275d278ca8c116da27e9467a0ba2\",\n",
      "      \"sha512\": \"c33e7d9d51d142ceb85cd3b3fe6054f89c0ac5bd51b9724e278437da58ed447885df2251b5bbd487b20c8103735dcd2354bef61970e21514dd7aeee544b01ec0\",\n",
      "      \"signatures\": [\n",
      "        {\n",
      "          \"label\": \"uses_vbs_compiler\",\n",
      "          \"name\": \"Uses the VBS compiler for execution\",\n",
      "          \"score\": 7,\n",
      "          \"ttp\": [\n",
      "            \"T1064\"\n",
      "          ]\n",
      "        },\n",
      "        {\n",
      "          \"label\": \"sig_crypto_wallet\",\n",
      "          \"name\": \"Accesses cryptocurrency files/wallets, possible credential harvesting\",\n",
      "          \"score\": 6,\n",
      "          \"tags\": [\n",
      "            \"spyware\"\n",
      "          ],\n",
      "          \"ttp\": [\n",
      "            \"T1005\",\n",
      "            \"T1552.001\"\n",
      "          ]\n",
      "        },\n",
      "        {\n",
      "          \"name\": \"Suspicious use of SetThreadContext\",\n",
      "          \"score\": 5\n",
      "        },\n",
      "        {\n",
      "          \"name\": \"Suspicious behavior: EnumeratesProcesses\"\n",
      "        },\n",
      "        {\n",
      "          \"name\": \"Suspicious use of AdjustPrivilegeToken\"\n",
      "        },\n",
      "        {\n",
      "          \"name\": \"Suspicious use of WriteProcessMemory\"\n",
      "        }\n",
      "      ],\n",
      "      \"size\": 19051008,\n",
      "      \"ssdeep\": \"393216:daEMDZB4brQc+unXmrZT9ogMO8VxIRJxibRR6+h8WFvBcjfnf:gD74/+uXmrZqcRC9R6+jlOjff\",\n",
      "      \"tags\": [\n",
      "        \"spyware\"\n",
      "      ],\n",
      "      \"target\": \"malware\",\n",
      "      \"tasks\": [\n",
      "        \"behavioral1\",\n",
      "        \"behavioral2\"\n",
      "      ]\n",
      "    }\n",
      "  ],\n",
      "  \"tasks\": {\n",
      "    \"231214-qdzmcadggp-behavioral1\": {\n",
      "      \"backend\": \"fu1m1\",\n",
      "      \"kind\": \"behavioral\",\n",
      "      \"name\": \"behavioral1\",\n",
      "      \"os\": \"windows7-x64\",\n",
      "      \"resource\": \"win7-20231023-en\",\n",
      "      \"score\": 7,\n",
      "      \"sigs\": 6,\n",
      "      \"status\": \"reported\",\n",
      "      \"tags\": [\n",
      "        \"spyware\"\n",
      "      ],\n",
      "      \"target\": \"malware.exe\",\n",
      "      \"timeout\": 150\n",
      "    },\n",
      "    \"231214-qdzmcadggp-behavioral2\": {\n",
      "      \"backend\": \"sbx4m62\",\n",
      "      \"kind\": \"behavioral\",\n",
      "      \"name\": \"behavioral2\",\n",
      "      \"os\": \"windows10-2004-x64\",\n",
      "      \"resource\": \"win10v2004-20231130-en\",\n",
      "      \"score\": 7,\n",
      "      \"sigs\": 6,\n",
      "      \"status\": \"reported\",\n",
      "      \"tags\": [\n",
      "        \"spyware\"\n",
      "      ],\n",
      "      \"target\": \"malware.exe\",\n",
      "      \"timeout\": 150\n",
      "    },\n",
      "    \"231214-qdzmcadggp-static1\": {\n",
      "      \"kind\": \"static\",\n",
      "      \"name\": \"static1\",\n",
      "      \"score\": 3,\n",
      "      \"sigs\": 1,\n",
      "      \"status\": \"reported\"\n",
      "    }\n",
      "  },\n",
      "  \"version\": \"0.3.0\"\n",
      "}\n"
     ]
    }
   ],
   "source": [
    "import json\n",
    "result = response.json()\n",
    "print(json.dumps(result, indent=2))"
   ]
  },
  {
   "cell_type": "markdown",
   "metadata": {},
   "source": [
    "#### QUERY SHA256"
   ]
  },
  {
   "cell_type": "code",
   "execution_count": 10,
   "metadata": {},
   "outputs": [
    {
     "name": "stdout",
     "output_type": "stream",
     "text": [
      "No se encontraron muestras para el SHA256: 59707359efedc6ed1476aacbf30ed160a07e99f850f7d16d1b13363412aff701\n"
     ]
    }
   ],
   "source": [
    "import requests\n",
    "import json\n",
    "SHA_256 = \"59707359efedc6ed1476aacbf30ed160a07e99f850f7d16d1b13363412aff701\"\n",
    "url = f\"https://tria.ge/api/v0/search?query=sha256:{SHA_256}\"\n",
    "response = requests.get(url,headers=HEADERS)\n",
    "\n",
    "if response.status_code == 200:\n",
    "    samples = response.json().get(\"data\", [])\n",
    "    if samples:\n",
    "        id_triage = samples[0].get(\"id\", \"\")\n",
    "        url = f\"https://tria.ge/api/v0/samples/{id_triage}/overview.json\"\n",
    "        response = requests.get(url, headers=HEADERS)\n",
    "        if response.status_code == 200:\n",
    "            result = response.json()\n",
    "            print(json.dumps(result, indent=2))\n",
    "        else:\n",
    "            print(\"Error en la solicitud:\", response.status_code)\n",
    "    else:\n",
    "        print(\"No se encontraron muestras para el SHA256:\", SHA_256)\n",
    "    "
   ]
  },
  {
   "cell_type": "code",
   "execution_count": null,
   "metadata": {},
   "outputs": [],
   "source": []
  }
 ],
 "metadata": {
  "kernelspec": {
   "display_name": "Python 3",
   "language": "python",
   "name": "python3"
  },
  "language_info": {
   "codemirror_mode": {
    "name": "ipython",
    "version": 3
   },
   "file_extension": ".py",
   "mimetype": "text/x-python",
   "name": "python",
   "nbconvert_exporter": "python",
   "pygments_lexer": "ipython3",
   "version": "3.11.5"
  }
 },
 "nbformat": 4,
 "nbformat_minor": 2
}
